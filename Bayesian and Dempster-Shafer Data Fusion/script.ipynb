{
 "cells": [
  {
   "cell_type": "code",
   "execution_count": 44,
   "metadata": {},
   "outputs": [],
   "source": [
    "import numpy as np"
   ]
  },
  {
   "cell_type": "markdown",
   "metadata": {},
   "source": [
    "# UFRGS - PPGEE - ENG405\n",
    "## Inferência Bayesiana e Teoria Evidências de Depster-Shafer\n",
    "## Túlio Dapper e Silva (194878)"
   ]
  },
  {
   "attachments": {},
   "cell_type": "markdown",
   "metadata": {},
   "source": [
    "# 1 - Bayesian Inference\n",
    "# Multi-sensor data fusion application for Cargo Screening\n",
    "## A  Bayesian approach\n",
    "### 2010 2nd International Conference on Computer Technology and Development (ICCTD 2010)\n",
    "### Akiwowo Ayodeji O. and Efekhari Mahroo M.\n",
    "![foto_container2.png](foto_container2.png)\n",
    "![foto_scan2.png](foto_scan2.png)"
   ]
  },
  {
   "cell_type": "markdown",
   "metadata": {},
   "source": [
    "## Cargo Screening\n",
    "$x_1$: state of the target at 'time' 1.\n",
    "                                        \n",
    "$x$ = $s_1$, $s_2$ e $s_3$ (substances)"
   ]
  },
  {
   "cell_type": "markdown",
   "metadata": {},
   "source": [
    "## Sensor X (X = A, B)\n",
    "$y^X_1$: observation made of target at 'time' 1 by sensor X.\n",
    "\n",
    "$Y^X_0$: set of old data collected by sensor X.\n",
    "\n",
    "$Y^X_1$: set of all observations made of the target by sensor X\n",
    "up to present time. $Y^X_1=Y^X_0 + y_1^X$"
   ]
  },
  {
   "cell_type": "markdown",
   "metadata": {},
   "source": [
    "## Bayesian Inference\n",
    "$P(A|B)=\\dfrac{P(B|A)P(A)}{P(B)}$\n",
    "\n",
    "$P(x_1|Y^X_1)=\\dfrac{P(y^X_1|x_1)P(x_1|Y^X_0)}{P(y_1|Y^X_0)}$\n",
    "\n",
    "$P(y^X_1|x_1)$: likelihood\n",
    "\n",
    "$P(x_1|Y^X_0)$: prior probability"
   ]
  },
  {
   "cell_type": "markdown",
   "metadata": {},
   "source": [
    "## Data Fusion\n",
    "$P(x=s_k|Y^A_1Y^B_1)=\\dfrac{P(x=s_k|Y^A_1)P(x=s_k|Y^B_1)P(x=s_k|Y^A_0Y^B_0)}{P(x=s_k|Y^A_0)P(x=s_k|Y^B_0)}$\n",
    "\n",
    "$k=1,2,3$"
   ]
  },
  {
   "cell_type": "code",
   "execution_count": 183,
   "metadata": {},
   "outputs": [],
   "source": [
    "fuseB  = lambda p_y_1_, p_y_0_, p_yf_0_: p_y_1_[0]*p_y_1_[1]*p_yf_0_/(p_y_0_[0]*p_y_0_[1])"
   ]
  },
  {
   "cell_type": "markdown",
   "metadata": {},
   "source": [
    "## Experimental\n",
    "\n",
    "### Sensor A\n",
    "\n",
    "$P(x=s_1|Y^A_0)=0.4$\n",
    "\n",
    "$P(x=s_2|Y^A_0)=0.3$\n",
    "\n",
    "$P(x=s_3|Y^A_0)=0.3$\n",
    "\n",
    "### Sensor B\n",
    "\n",
    "$P(x=s_1|Y^B_0)=0.5$\n",
    "\n",
    "$P(x=s_2|Y^B_0)=0.3$\n",
    "\n",
    "$P(x=s_3|Y^B_0)=0.2$\n",
    "\n",
    "### Sensor A\n",
    "\n",
    "$P(x=s_1|Y^A_1)=0.64$\n",
    "\n",
    "$P(x=s_2|Y^A_1)=0.22$\n",
    "\n",
    "$P(x=s_3|Y^A_1)=0.14$\n",
    "\n",
    "### Sensor B\n",
    "\n",
    "$P(x=s_1|Y^B_1)=0.76$\n",
    "\n",
    "$P(x=s_2|Y^B_1)=0.21$\n",
    "\n",
    "$P(x=s_3|Y^B_1)=0.03$\n",
    "\n",
    "\n",
    "### Initial Values\n",
    "\n",
    "$P(x=s_1|Y^A_0Y^B_0)=0.5$\n",
    "\n",
    "$P(x=s_2|Y^A_0Y^B_0)=0.3$\n",
    "\n",
    "$P(x=s_3|Y^A_0Y^B_0)=0.2$\n"
   ]
  },
  {
   "cell_type": "code",
   "execution_count": 41,
   "metadata": {},
   "outputs": [],
   "source": [
    "p_yf = [.5, .3, .2]\n",
    "p_yA = np.array([[.4, .3, .3],[.64, .22, .14]])\n",
    "p_yB = np.array([[.5, .3, .2],[.76, .21, .03]])"
   ]
  },
  {
   "cell_type": "code",
   "execution_count": 184,
   "metadata": {},
   "outputs": [
    {
     "name": "stdout",
     "output_type": "stream",
     "text": [
      "Probabilities of being s1, s2 and s3\n",
      "[9.73650236e+01 2.60271140e+00 3.22650174e-02]\n"
     ]
    }
   ],
   "source": [
    "for s in range(0,3):\n",
    "    p_yf[s]  = fuseB([p_yA[1,s], p_yB[1,s]], [p_yA[0,s], p_yB[0,s]], p_yf[s])\n",
    "p_yf=p_yf/np.sum(p_yf)\n",
    "\n",
    "print(\"Probabilities of being s1, s2 and s3\")\n",
    "print(p_yf*100)"
   ]
  },
  {
   "attachments": {},
   "cell_type": "markdown",
   "metadata": {},
   "source": [
    "# Extra\n",
    "##  Detecting Weed in Agriculture\n",
    "![treinamento2.JPG](treinamento2.JPG)\n",
    "\n",
    "##  Bayesian Inference\n",
    "\n",
    "$P(A|B)=\\dfrac{P(B|A)P(A)}{P(B)}$\n",
    "\n",
    "##  Application\n",
    "\n",
    "$A$  : It is weed.\n",
    "\n",
    "$B_1$: Presence or high probability of having weed within a certain distance.\n",
    "\n",
    "$B_2$: High humidity.\n",
    "\n",
    "$P(B_1B_2|A)=90\\%$\n",
    "\n",
    "$P(B_1B_2|\\bar{A})=5\\%$\n",
    "\n",
    "##  Let's suppose at a moment...\n",
    "\n",
    "$P(A)=70\\%$\n",
    "\n",
    "$P(B_1B_2)=P(A)P(B_1B_2|A)+P(\\bar{A})P(B_1B_2|\\bar{A})=0.7*0.9+0.3*0.05=0.645$\n",
    "\n",
    "$P(A|B1B2)=0.7*0.9/0.645=0.976=97.6\\%$"
   ]
  },
  {
   "cell_type": "markdown",
   "metadata": {},
   "source": [
    "# 2 - Teoria Evidências de Depster-Shafer\n",
    "# An Introduction to Bayesian and Dempster-Shafer Data Fusion\n",
    "### Don Koks and Subhash Challa"
   ]
  },
  {
   "attachments": {},
   "cell_type": "markdown",
   "metadata": {},
   "source": [
    "## Aircraft Identification\n",
    "Two sensors (1 and 2) detecting either a F-111, a F/A-18 or a P-3C Orion.\n",
    "![aviao.jpg](aviao.jpg)"
   ]
  },
  {
   "attachments": {},
   "cell_type": "markdown",
   "metadata": {},
   "source": [
    "## Dempster-Shafer\n",
    "### Elements\n",
    "F-111, F/A-18, P-3C Orion\n",
    "### Subsets\n",
    "F-111 = {F-111}\n",
    "\n",
    "F/A-18 = {F/A-18}\n",
    "\n",
    "P-3C = {P-3C}\n",
    "\n",
    "Fast = {F-111, F/A-18}\n",
    "\n",
    "Unknown = {F-111, F/A-18, P-3C}\n",
    "### Mc: Content Matrix\n",
    "(the elements of the left edge subsets belong to top edge subsets)\n",
    "\n",
    "$M_c = \n",
    "\\begin{bmatrix}\n",
    "    1 & 0 & 0 & 1 & 1 \\\\\n",
    "    0 & 1 & 0 & 1 & 1 \\\\\n",
    "    0 & 0 & 1 & 0 & 1 \\\\\n",
    "    0 & 0 & 0 & 1 & 1 \\\\\n",
    "    0 & 0 & 0 & 0 & 1\n",
    "\\end{bmatrix}$\n",
    "\n",
    "### Ms: Support Matrix\n",
    "(top edge subsets give support to left edge subsets)\n",
    "\n",
    "$M_s = \n",
    "\\begin{bmatrix}\n",
    "    1 & 0 & 0 & 0 & 0 \\\\\n",
    "    0 & 1 & 0 & 0 & 0 \\\\\n",
    "    0 & 0 & 1 & 0 & 0 \\\\\n",
    "    1 & 1 & 0 & 1 & 0 \\\\\n",
    "    1 & 1 & 1 & 1 & 1\n",
    "\\end{bmatrix}$\n",
    "\n",
    "### Mp: Plausability Matrix\n",
    "(top edge subsets do not contradict the left edge subsets)\n",
    "\n",
    "$M_p = \n",
    "\\begin{bmatrix}\n",
    "    1 & 0 & 0 & 1 & 1 \\\\\n",
    "    0 & 1 & 0 & 1 & 1 \\\\\n",
    "    0 & 0 & 1 & 0 & 1 \\\\\n",
    "    1 & 1 & 0 & 1 & 1 \\\\\n",
    "    1 & 1 & 1 & 1 & 1\n",
    "\\end{bmatrix}$\n",
    "\n",
    "### Fusion Data\n",
    "$$m^{1,2}(C)=k\\sum_{A \\cap B=C}m^1(A)m^2(B)$$\n",
    "\n",
    "$$m^{1,2}=r(M_1(M_cM_2))^T+r(M_2(M_cM_1))^T-r(M_1M_2)$$\n",
    "\n",
    "where:\n",
    "\n",
    "$r = ones(size(m(A)))$\n",
    "\n",
    "$M_1 = \n",
    "\\begin{bmatrix}\n",
    "    m(A,1) & 0 & 0 & 0 \\\\\n",
    "    0 & m(A,2) & 0 & 0 \\\\\n",
    "    0 & 0 & ... & 0 \\\\\n",
    "    0 & 0 & 0 & m(A,size(m(A)))\\\\\n",
    "\\end{bmatrix}$\n",
    "\n",
    "$M_2 = \n",
    "\\begin{bmatrix}\n",
    "    m(B,1) & 0 & 0 & 0 \\\\\n",
    "    0 & m(B,2) & 0 & 0 \\\\\n",
    "    0 & 0 & ... & 0 \\\\\n",
    "    0 & 0 & 0 & m(B,size(m(B)))\\\\\n",
    "\\end{bmatrix}$\n",
    "\n",
    "### Sensor Samples\n",
    "1st Sample\n",
    "![sensor1.PNG](sensor1.PNG)\n",
    "2nd Sample\n",
    "![sensor2.PNG](sensor2.PNG)\n"
   ]
  },
  {
   "cell_type": "code",
   "execution_count": 180,
   "metadata": {},
   "outputs": [],
   "source": [
    "def fuseD(mA, mB, M):\n",
    "    N = np.size(mA)\n",
    "    MA = np.zeros([N,N])\n",
    "    MB = np.zeros([N,N])\n",
    "    r = np.ones([1,N])\n",
    "    for i in range(0, N):\n",
    "        MA[i,i]=mA[i]\n",
    "        MB[i,i]=mB[i]\n",
    "    x = np.dot(r,np.transpose(np.dot(MA,np.dot(M,MB))))+np.dot(r,np.transpose(np.dot(MB,np.dot(M,MA))))-np.dot(r,np.dot(MA,MB))\n",
    "    return x[0,:]/sum(x[0,:])\n",
    "suppla = lambda m, M: np.dot(m, np.transpose(M))"
   ]
  },
  {
   "cell_type": "code",
   "execution_count": 182,
   "metadata": {},
   "outputs": [
    {
     "name": "stdout",
     "output_type": "stream",
     "text": [
      "Legend\n",
      "   F-111   |   F/A-18   |    P-3C    |   Fast   |   Unknown\n",
      "\n",
      "1st Sample - Fused Masses (%)\n",
      "[54.62330749 16.08610115  0.40504571 28.53836362  0.34718204]\n",
      "\n",
      "1st Sample - Support (%)\n",
      "[ 54.62330749  16.08610115   0.40504571  99.24777225 100.        ]\n",
      "\n",
      "1st Sample - Plausability (%)\n",
      "[ 83.50885314  44.9716468    0.75222775  99.59495429 100.        ]\n",
      "\n",
      "2nd Sample - Fused Masses (%)\n",
      "[63.1880561  30.99080078  3.46855678  1.90016589  0.45242045]\n",
      "\n",
      "2nd Sample - Support (%)\n",
      "[ 63.1880561   30.99080078   3.46855678  96.07902277 100.        ]\n",
      "\n",
      "2nd Sample - Plausability (%)\n",
      "[ 65.54064244  33.34338712   3.92097723  96.53144322 100.        ]\n",
      "\n"
     ]
    }
   ],
   "source": [
    "M = np.array([[1, 0, 0, 1, 1], [0, 1, 0, 1, 1], [0, 0, 1, 0, 1], [0, 0, 0, 1, 1], [0, 0, 0, 0, 1]])\n",
    "Ms = np.array([[1, 0, 0, 0, 0], [0, 1, 0, 0, 0], [0, 0, 1, 0, 0], [1, 1, 0, 1, 0], [1, 1, 1, 1, 1]])\n",
    "Mp = np.array([[1, 0, 0, 1, 1], [0, 1, 0, 1, 1], [0, 0, 1, 0, 1], [1, 1, 0, 1, 1], [1, 1, 1, 1, 1]])\n",
    "\n",
    "mA = np.array([[.3, .15, .03, .42, .1],[.3, .15, .03, .42, .1]])\n",
    "mB = np.array([[.4, .1, .02, .45, .03],[.5, .3, .17, 0, .03]])\n",
    "\n",
    "print(\"Legend\")\n",
    "print(\"   F-111   |   F/A-18   |    P-3C    |   Fast   |   Unknown\")\n",
    "print(\"\")\n",
    "\n",
    "mF1 = fuseD(mA[0,:], mB[0,:], Mc);\n",
    "print(\"1st Sample - Fused Masses (%)\")\n",
    "print(mF1*100)\n",
    "print(\"\")\n",
    "\n",
    "SA1 = suppla(mF1, Ms)\n",
    "print(\"1st Sample - Support (%)\")\n",
    "print(SA1*100)\n",
    "print(\"\")\n",
    "\n",
    "PA1 = suppla(mF1, Mp)\n",
    "print(\"1st Sample - Plausability (%)\")\n",
    "print(PA1*100)\n",
    "print(\"\")\n",
    "\n",
    "mF2 = fuseD(mA[1,:], mB[1,:], Mc);\n",
    "print(\"2nd Sample - Fused Masses (%)\")\n",
    "print(mF2*100)\n",
    "print(\"\")\n",
    "\n",
    "SA2 = suppla(mF2, Ms)\n",
    "print(\"2nd Sample - Support (%)\")\n",
    "print(SA2*100)\n",
    "print(\"\")\n",
    "\n",
    "PA2 = suppla(mF2, Mp)\n",
    "print(\"2nd Sample - Plausability (%)\")\n",
    "print(PA2*100)\n",
    "print(\"\")"
   ]
  }
 ],
 "metadata": {
  "kernelspec": {
   "display_name": "Python 3",
   "language": "python",
   "name": "python3"
  },
  "language_info": {
   "codemirror_mode": {
    "name": "ipython",
    "version": 3
   },
   "file_extension": ".py",
   "mimetype": "text/x-python",
   "name": "python",
   "nbconvert_exporter": "python",
   "pygments_lexer": "ipython3",
   "version": "3.6.4"
  }
 },
 "nbformat": 4,
 "nbformat_minor": 2
}
